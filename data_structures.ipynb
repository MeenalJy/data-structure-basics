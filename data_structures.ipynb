{
  "nbformat": 4,
  "nbformat_minor": 0,
  "metadata": {
    "colab": {
      "provenance": [],
      "authorship_tag": "ABX9TyO1KYr5mfaFNXU56pzKUoIm",
      "include_colab_link": true
    },
    "kernelspec": {
      "name": "python3",
      "display_name": "Python 3"
    },
    "language_info": {
      "name": "python"
    }
  },
  "cells": [
    {
      "cell_type": "markdown",
      "metadata": {
        "id": "view-in-github",
        "colab_type": "text"
      },
      "source": [
        "<a href=\"https://colab.research.google.com/github/MeenalJy/data-structure-basics/blob/main/data_structures.ipynb\" target=\"_parent\"><img src=\"https://colab.research.google.com/assets/colab-badge.svg\" alt=\"Open In Colab\"/></a>"
      ]
    },
    {
      "cell_type": "markdown",
      "source": [
        "Data Structures for DevOps Engineers"
      ],
      "metadata": {
        "id": "_U2ocSS7KI8g"
      }
    },
    {
      "cell_type": "markdown",
      "source": [
        "Let's start data structures with list type."
      ],
      "metadata": {
        "id": "b0Od4rMiKKrV"
      }
    },
    {
      "cell_type": "code",
      "source": [
        "list_of_books = [\"Hindi\", \"English\", \"Mathematics\", \"Science\"]\n",
        "\n",
        "list_of_students = [\"Rinky\", \"Pinky\", \"Tinky\", \"Dinky\"]\n",
        "\n",
        "print(list_of_books[2])"
      ],
      "metadata": {
        "colab": {
          "base_uri": "https://localhost:8080/"
        },
        "id": "wdoQXikvKPg9",
        "outputId": "145c9a5f-2501-4afc-83b6-d21f5f656ecc"
      },
      "execution_count": 1,
      "outputs": [
        {
          "output_type": "stream",
          "name": "stdout",
          "text": [
            "Mathematics\n"
          ]
        }
      ]
    },
    {
      "cell_type": "markdown",
      "source": [
        "How to insert value in the list?"
      ],
      "metadata": {
        "id": "9GXbnW8EK32d"
      }
    },
    {
      "cell_type": "code",
      "source": [
        "list_of_books.append(\"Economics\")"
      ],
      "metadata": {
        "id": "xNc_yumfK_41"
      },
      "execution_count": 2,
      "outputs": []
    },
    {
      "cell_type": "code",
      "source": [
        "print(list_of_books[4])"
      ],
      "metadata": {
        "colab": {
          "base_uri": "https://localhost:8080/"
        },
        "id": "F6WyZGEwLPu4",
        "outputId": "48bc7cea-c759-4e4f-b645-6814d081ad65"
      },
      "execution_count": 3,
      "outputs": [
        {
          "output_type": "stream",
          "name": "stdout",
          "text": [
            "Economics\n"
          ]
        }
      ]
    },
    {
      "cell_type": "code",
      "source": [
        "books = str(input(\"Choose your favourite book\"))\n",
        "if books == \"English\":\n",
        "  print(\"Your favourite book is English\")\n",
        "\n",
        "elif books == \"Hindi\":\n",
        "    print(\"Second favourite book is Hindi\")\n",
        "\n",
        "else:\n",
        "  print(\"book not found!\")\n",
        ""
      ],
      "metadata": {
        "colab": {
          "base_uri": "https://localhost:8080/"
        },
        "id": "HASBjDjnQtAb",
        "outputId": "a6b6d1c7-c6f2-4a6f-9f85-fa659a3f454b"
      },
      "execution_count": 11,
      "outputs": [
        {
          "output_type": "stream",
          "name": "stdout",
          "text": [
            "Choose your favourite bookdfgh\n",
            "book not found!\n"
          ]
        }
      ]
    },
    {
      "cell_type": "markdown",
      "source": [
        "Example for for loop:"
      ],
      "metadata": {
        "id": "ST1Pk0yyUXmB"
      }
    },
    {
      "cell_type": "code",
      "source": [
        "list_of_cloud = [\"aws\", \"gcp\", \"azure\"]\n",
        "\n",
        "list_of_env = [\"dev\",\"test\", \"prod\"]\n",
        "\n",
        "list_of_cloud.append(\"oracle\")\n",
        "\n",
        "for cloud in list_of_cloud:\n",
        "  print(\"Most popular clouds are\", cloud)"
      ],
      "metadata": {
        "colab": {
          "base_uri": "https://localhost:8080/"
        },
        "id": "CjFST22DUdSC",
        "outputId": "ef2f79b6-2f75-4543-e086-bdb228403eee"
      },
      "execution_count": 13,
      "outputs": [
        {
          "output_type": "stream",
          "name": "stdout",
          "text": [
            "Most popular clouds are aws\n",
            "Most popular clouds are gcp\n",
            "Most popular clouds are azure\n",
            "Most popular clouds are oracle\n"
          ]
        }
      ]
    },
    {
      "cell_type": "code",
      "source": [],
      "metadata": {
        "id": "34mY6kdTU6tV"
      },
      "execution_count": null,
      "outputs": []
    },
    {
      "cell_type": "markdown",
      "source": [
        "Example:2: for loop"
      ],
      "metadata": {
        "id": "afo0ia8FV0Cz"
      }
    },
    {
      "cell_type": "code",
      "source": [
        "for i in range(8):\n",
        "  print(\"I thought I was never going to learn Python, but look at me now. I conquered it!\")\n"
      ],
      "metadata": {
        "colab": {
          "base_uri": "https://localhost:8080/"
        },
        "id": "zeMd7aR1V5Nh",
        "outputId": "f9872630-d702-4b80-f530-577d82352df8"
      },
      "execution_count": 16,
      "outputs": [
        {
          "output_type": "stream",
          "name": "stdout",
          "text": [
            "I thought I was never going to learn Python, but look at me now. I conquered it!\n",
            "I thought I was never going to learn Python, but look at me now. I conquered it!\n",
            "I thought I was never going to learn Python, but look at me now. I conquered it!\n",
            "I thought I was never going to learn Python, but look at me now. I conquered it!\n",
            "I thought I was never going to learn Python, but look at me now. I conquered it!\n",
            "I thought I was never going to learn Python, but look at me now. I conquered it!\n",
            "I thought I was never going to learn Python, but look at me now. I conquered it!\n",
            "I thought I was never going to learn Python, but look at me now. I conquered it!\n"
          ]
        }
      ]
    },
    {
      "cell_type": "markdown",
      "source": [
        "let's learn about Dictionary type."
      ],
      "metadata": {
        "id": "Wr-mWsh7W5ey"
      }
    },
    {
      "cell_type": "code",
      "source": [
        "dict_of_jculture = {\"Ring\":\"Movie\",\n",
        "                   \"Forest of love\":\"Series\",\n",
        "                   \"Tokyo vampire hotel\":\"Series\",\n",
        "                    \"Deathnote\":\"Manga and Anime\"\n",
        "                    }\n",
        "\n",
        "print(dict_of_jculture.get(\"Ring\"))\n",
        "\n",
        "print(dict_of_jculture[\"Deathnote\"])\n",
        "\n"
      ],
      "metadata": {
        "colab": {
          "base_uri": "https://localhost:8080/"
        },
        "id": "7XHexjGmW9Km",
        "outputId": "d5b2821f-7d03-4af6-feed-9b2fefbd1d91"
      },
      "execution_count": 18,
      "outputs": [
        {
          "output_type": "stream",
          "name": "stdout",
          "text": [
            "Movie\n",
            "Manga and Anime\n"
          ]
        }
      ]
    },
    {
      "cell_type": "markdown",
      "source": [
        "How to insert value in dictionary?"
      ],
      "metadata": {
        "id": "vHOpLScNY1Ev"
      }
    },
    {
      "cell_type": "code",
      "source": [
        "dict_of_jculture = {\"Ring\":\"Movie\",\n",
        "                   \"Forest of love\":\"Series\",\n",
        "                   \"Tokyo vampire hotel\":\"Series\",\n",
        "                    \"Deathnote\":\"Manga and Anime\"\n",
        "                    }\n",
        "\n",
        "print(dict_of_jculture.get(\"Ring\"))\n",
        "\n",
        "print(dict_of_jculture[\"Deathnote\"])\n",
        "\n",
        "dict_of_jculture.update({\"Audition\":\"Movie\"})\n",
        "\n",
        "print(dict_of_jculture.get(\"Audition\"))\n",
        "\n",
        "print(dict_of_jculture)"
      ],
      "metadata": {
        "colab": {
          "base_uri": "https://localhost:8080/"
        },
        "outputId": "11992fa8-fb02-4859-96c2-52ada973c351",
        "id": "wbGtBRI8Zu7e"
      },
      "execution_count": 21,
      "outputs": [
        {
          "output_type": "stream",
          "name": "stdout",
          "text": [
            "Movie\n",
            "Manga and Anime\n",
            "Movie\n",
            "{'Ring': 'Movie', 'Forest of love': 'Series', 'Tokyo vampire hotel': 'Series', 'Deathnote': 'Manga and Anime', 'Audition': 'Movie'}\n"
          ]
        }
      ]
    }
  ]
}